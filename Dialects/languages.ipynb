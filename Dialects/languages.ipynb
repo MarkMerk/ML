{
 "cells": [
  {
   "cell_type": "markdown",
   "metadata": {},
   "source": [
    "### About the task\n",
    "\n",
    "The goal of this task is to acquire skills in working with text and training classification models on this data."
   ]
  },
  {
   "cell_type": "markdown",
   "metadata": {},
   "source": [
    "**Task:** In Switzerland, there are 4 dialects of the German language. The goal of the project is to predict the dialect based on a fragment of spoken language.\n",
    "\n",
    "**Data:**\n",
    "\n",
    "File descriptions:\n",
    "\n",
    "- train.csv - training dataset\n",
    "- test.csv - testing dataset\n",
    "- sampleSubmission.csv - an example of the resulting file for submission to Kaggle\n",
    "\n",
    "Column descriptions:\n",
    "\n",
    "- Id - a unique index for the testing dataset (test.csv)\n",
    "- Text - a fragment of speech\n",
    "- Label - the target language class for a particular speech fragment (train.csv)\n",
    "- Prediction - the predicted language class (sampleSubmission.csv)\n",
    "\n",
    "Class descriptions:\n",
    "\n",
    "`BE Bernese LU Lucerne ZH Zurich BS Basel`\n",
    "\n",
    "**More about the data:** [https://www.kaggle.com/competitions/swiss-dialect-identification/data](https://www.kaggle.com/competitions/swiss-dialect-identification/data)"
   ]
  },
  {
   "cell_type": "code",
   "execution_count": 2,
   "metadata": {},
   "outputs": [],
   "source": [
    "import pandas as pd\n",
    "import numpy as np\n",
    "import seaborn as sns\n",
    "from scipy.sparse import csr_matrix\n",
    "from sklearn.feature_extraction.text import CountVectorizer, TfidfVectorizer\n",
    "from sklearn.preprocessing import LabelEncoder, OneHotEncoder, StandardScaler, MinMaxScaler\n",
    "from sklearn.model_selection import train_test_split\n",
    "\n",
    "from sklearn.ensemble import RandomForestClassifier, GradientBoostingClassifier\n",
    "from sklearn.metrics import accuracy_score\n",
    "from sklearn.linear_model import SGDClassifier\n",
    "\n",
    "\n",
    "import keras\n",
    "from tensorflow.keras import Sequential\n",
    "from tensorflow.keras.layers import Dense,Dropout,Flatten\n",
    "from tensorflow.keras.activations import softmax, relu\n",
    "from tensorflow.keras import regularizers\n",
    "from tensorflow.keras.losses import SparseCategoricalCrossentropy\n",
    "from tensorflow.keras.optimizers import Adam, Adamax\n",
    "from tensorflow.keras.regularizers import L2\n",
    "from livelossplot import PlotLossesKeras\n",
    "from tensorflow.keras.callbacks import EarlyStopping,ReduceLROnPlateau\n",
    "\n",
    "from sklearn.metrics import classification_report,confusion_matrix"
   ]
  },
  {
   "cell_type": "markdown",
   "metadata": {},
   "source": [
    "## 1. Load dataframes using pandas. Perform preprocessing for Bag of Words."
   ]
  },
  {
   "cell_type": "code",
   "execution_count": 3,
   "metadata": {},
   "outputs": [],
   "source": [
    "train = pd.read_csv('data/train.csv')\n",
    "test = pd.read_csv('data/test.csv')"
   ]
  },
  {
   "cell_type": "code",
   "execution_count": 4,
   "metadata": {},
   "outputs": [
    {
     "name": "stdout",
     "output_type": "stream",
     "text": [
      "<class 'pandas.core.frame.DataFrame'>\n",
      "RangeIndex: 15616 entries, 0 to 15615\n",
      "Data columns (total 2 columns):\n",
      " #   Column  Non-Null Count  Dtype \n",
      "---  ------  --------------  ----- \n",
      " 0   Text    15616 non-null  object\n",
      " 1   Label   15616 non-null  object\n",
      "dtypes: object(2)\n",
      "memory usage: 244.1+ KB\n"
     ]
    }
   ],
   "source": [
    "train.info()"
   ]
  },
  {
   "cell_type": "code",
   "execution_count": 5,
   "metadata": {},
   "outputs": [],
   "source": [
    "vectorizer = CountVectorizer()\n",
    "trbag = vectorizer.fit_transform(train.Text)"
   ]
  },
  {
   "cell_type": "code",
   "execution_count": 6,
   "metadata": {},
   "outputs": [
    {
     "name": "stdout",
     "output_type": "stream",
     "text": [
      "<class 'pandas.core.frame.DataFrame'>\n",
      "RangeIndex: 2500 entries, 0 to 2499\n",
      "Data columns (total 2 columns):\n",
      " #   Column  Non-Null Count  Dtype \n",
      "---  ------  --------------  ----- \n",
      " 0   Id      2500 non-null   int64 \n",
      " 1   Text    2500 non-null   object\n",
      "dtypes: int64(1), object(1)\n",
      "memory usage: 39.2+ KB\n"
     ]
    }
   ],
   "source": [
    "test.info()"
   ]
  },
  {
   "cell_type": "code",
   "execution_count": 7,
   "metadata": {},
   "outputs": [
    {
     "data": {
      "text/plain": [
       "array([[0, 0, 0, ..., 0, 0, 0],\n",
       "       [0, 0, 0, ..., 0, 0, 0],\n",
       "       [0, 0, 0, ..., 0, 0, 0],\n",
       "       ...,\n",
       "       [0, 0, 0, ..., 0, 0, 0],\n",
       "       [0, 0, 0, ..., 0, 0, 0],\n",
       "       [0, 0, 0, ..., 0, 0, 0]], dtype=int64)"
      ]
     },
     "execution_count": 7,
     "metadata": {},
     "output_type": "execute_result"
    }
   ],
   "source": [
    "tebag = vectorizer.transform(test.Text)\n",
    "tebag.toarray()"
   ]
  },
  {
   "cell_type": "code",
   "execution_count": 8,
   "metadata": {},
   "outputs": [],
   "source": [
    "le = LabelEncoder()\n",
    "y_train = le.fit_transform(train.Label)\n",
    "X_train = trbag"
   ]
  },
  {
   "cell_type": "code",
   "execution_count": 9,
   "metadata": {},
   "outputs": [],
   "source": [
    "X_test = tebag"
   ]
  },
  {
   "cell_type": "markdown",
   "metadata": {},
   "source": [
    "## 2. Train various models such as Random forest, Gradient boosting, SGD classifier, etc., and measure the accuracy metric on the validation data."
   ]
  },
  {
   "cell_type": "code",
   "execution_count": 10,
   "metadata": {},
   "outputs": [
    {
     "data": {
      "text/plain": [
       "(15616, 16292)"
      ]
     },
     "execution_count": 10,
     "metadata": {},
     "output_type": "execute_result"
    }
   ],
   "source": [
    "X_train.shape"
   ]
  },
  {
   "cell_type": "code",
   "execution_count": 11,
   "metadata": {},
   "outputs": [
    {
     "data": {
      "text/plain": [
       "(15616,)"
      ]
     },
     "execution_count": 11,
     "metadata": {},
     "output_type": "execute_result"
    }
   ],
   "source": [
    "y_train.shape"
   ]
  },
  {
   "cell_type": "code",
   "execution_count": 12,
   "metadata": {},
   "outputs": [
    {
     "data": {
      "text/plain": [
       "(2500, 16292)"
      ]
     },
     "execution_count": 12,
     "metadata": {},
     "output_type": "execute_result"
    }
   ],
   "source": [
    "X_test.shape"
   ]
  },
  {
   "cell_type": "code",
   "execution_count": 13,
   "metadata": {},
   "outputs": [],
   "source": [
    "X_train, X_tests,y_train,y_tests=train_test_split(trbag,y_train,random_state=42,test_size=20)"
   ]
  },
  {
   "cell_type": "code",
   "execution_count": 14,
   "metadata": {},
   "outputs": [],
   "source": [
    "clf = RandomForestClassifier()\n",
    "clf.fit(X_train, y_train)\n",
    "y_pred_RFC=clf.predict(X_tests)"
   ]
  },
  {
   "cell_type": "code",
   "execution_count": 15,
   "metadata": {},
   "outputs": [
    {
     "name": "stdout",
     "output_type": "stream",
     "text": [
      "              precision    recall  f1-score   support\n",
      "\n",
      "           0       1.00      0.50      0.67         6\n",
      "           1       0.50      1.00      0.67         2\n",
      "           2       0.60      1.00      0.75         3\n",
      "           3       0.88      0.78      0.82         9\n",
      "\n",
      "    accuracy                           0.75        20\n",
      "   macro avg       0.74      0.82      0.73        20\n",
      "weighted avg       0.83      0.75      0.75        20\n",
      "\n"
     ]
    }
   ],
   "source": [
    "print(classification_report(y_pred_RFC,y_tests))"
   ]
  },
  {
   "cell_type": "code",
   "execution_count": 16,
   "metadata": {},
   "outputs": [],
   "source": [
    "from sklearn.ensemble import GradientBoostingClassifier\n",
    "clf = GradientBoostingClassifier()\n",
    "clf.fit(X_train, y_train)\n",
    "y_pred_GBC=clf.predict(X_tests)"
   ]
  },
  {
   "cell_type": "code",
   "execution_count": 17,
   "metadata": {
    "scrolled": true
   },
   "outputs": [
    {
     "name": "stdout",
     "output_type": "stream",
     "text": [
      "              precision    recall  f1-score   support\n",
      "\n",
      "           0       1.00      0.75      0.86         4\n",
      "           1       0.75      1.00      0.86         3\n",
      "           2       0.60      1.00      0.75         3\n",
      "           3       1.00      0.80      0.89        10\n",
      "\n",
      "    accuracy                           0.85        20\n",
      "   macro avg       0.84      0.89      0.84        20\n",
      "weighted avg       0.90      0.85      0.86        20\n",
      "\n"
     ]
    }
   ],
   "source": [
    "print(classification_report(y_pred_GBC,y_tests))"
   ]
  },
  {
   "cell_type": "code",
   "execution_count": 18,
   "metadata": {},
   "outputs": [],
   "source": [
    "sgd = SGDClassifier()\n",
    "sgd.fit(X_train, y_train)\n",
    "y_pred_SGD=sgd.predict(X_tests)"
   ]
  },
  {
   "cell_type": "code",
   "execution_count": 19,
   "metadata": {
    "scrolled": true
   },
   "outputs": [
    {
     "name": "stdout",
     "output_type": "stream",
     "text": [
      "              precision    recall  f1-score   support\n",
      "\n",
      "           0       1.00      0.75      0.86         4\n",
      "           1       0.50      1.00      0.67         2\n",
      "           2       0.60      1.00      0.75         3\n",
      "           3       1.00      0.73      0.84        11\n",
      "\n",
      "    accuracy                           0.80        20\n",
      "   macro avg       0.78      0.87      0.78        20\n",
      "weighted avg       0.89      0.80      0.81        20\n",
      "\n"
     ]
    }
   ],
   "source": [
    "print(classification_report(y_pred_SGD,y_tests))"
   ]
  },
  {
   "cell_type": "code",
   "execution_count": 20,
   "metadata": {},
   "outputs": [],
   "source": [
    "train = pd.read_csv('data/train.csv')\n",
    "test = pd.read_csv('data/test.csv')"
   ]
  },
  {
   "cell_type": "code",
   "execution_count": 21,
   "metadata": {},
   "outputs": [],
   "source": [
    "X_train, X_tests,y_train,y_tests=train_test_split(trbag,train.Label,random_state=42,test_size=0.1)"
   ]
  },
  {
   "cell_type": "code",
   "execution_count": 22,
   "metadata": {},
   "outputs": [],
   "source": [
    "X_train= X_train.astype('int32')\n",
    "X_tests= X_tests.astype('int32')"
   ]
  },
  {
   "cell_type": "code",
   "execution_count": 23,
   "metadata": {},
   "outputs": [],
   "source": [
    "X_trainbn = np.array(X_train.toarray())\n",
    "X_trainbn = X_trainbn.reshape(*X_trainbn.shape,1) \n",
    "ohe = OneHotEncoder(sparse=False)\n",
    "y_trainbn = ohe.fit_transform(np.array(y_train).reshape(-1,1))\n",
    "X_testbn = np.array(X_tests.toarray())\n",
    "X_testbn = X_testbn.reshape(*X_testbn.shape,1)\n",
    "y_testsbn = ohe.fit_transform(np.array(y_tests).reshape(-1,1))"
   ]
  },
  {
   "cell_type": "code",
   "execution_count": 24,
   "metadata": {},
   "outputs": [
    {
     "data": {
      "image/png": "[encoded data removed]",
      "text/plain": [
       "<Figure size 1200x800 with 2 Axes>"
      ]
     },
     "metadata": {},
     "output_type": "display_data"
    },
    {
     "name": "stdout",
     "output_type": "stream",
     "text": [
      "accuracy\n",
      "\ttraining         \t (min:    0.727, max:    0.961, cur:    0.961)\n",
      "\tvalidation       \t (min:    0.812, max:    0.819, cur:    0.812)\n",
      "Loss\n",
      "\ttraining         \t (min:    0.121, max:    0.740, cur:    0.121)\n",
      "\tvalidation       \t (min:    0.457, max:    0.562, cur:    0.562)\n",
      "\b\b\b\b\b\b\b\b\b\b\b\b\b\b\b\b\b\b\b\b\b\b\b\b\b\b\b\b\b\b\b\b\b\b\b\b\b\b\b\b\b\b\b\b\b\b\b\b\b\b\b\b\b\b\b\b\b\b\b\b\b\b\b\b\b\b\b\b\b\b\b\b\b\b\b\b\b\b\b\b\b\b\b\b\r",
      "282/282 [==============================] - 143s 507ms/step - loss: 0.1213 - accuracy: 0.9614 - val_loss: 0.5619 - val_accuracy: 0.8124\n"
     ]
    }
   ],
   "source": [
    "model = Sequential([\n",
    "    Dense(16,input_shape=X_trainbn[0].shape,activation=relu,kernel_regularizer=L2(1e-4)),\n",
    "    Dense(32,activation=relu,kernel_regularizer=L2(1e-4)),\n",
    "    Dense(16,activation=relu,kernel_regularizer=L2(1e-4)),\n",
    "    Flatten(),\n",
    "    Dense(4,activation='softmax')\n",
    "])\n",
    "model.compile(loss='categorical_crossentropy', optimizer=Adam(), metrics=['accuracy'])\n",
    "callback = EarlyStopping(monitor='val_accuracy', patience=2)\n",
    "history = model.fit(X_trainbn,y_trainbn,epochs=15,batch_size=50,verbose=1,validation_data=[X_testbn,y_testsbn],callbacks=[PlotLossesKeras(),callback])"
   ]
  },
  {
   "cell_type": "code",
   "execution_count": 25,
   "metadata": {},
   "outputs": [
    {
     "name": "stdout",
     "output_type": "stream",
     "text": [
      "49/49 [==============================] - 6s 122ms/step - loss: 0.5619 - accuracy: 0.8124\n"
     ]
    }
   ],
   "source": [
    "res = model.evaluate(X_testbn,y_testsbn)"
   ]
  },
  {
   "cell_type": "code",
   "execution_count": 26,
   "metadata": {},
   "outputs": [
    {
     "data": {
      "text/plain": [
       "0.8124199509620667"
      ]
     },
     "execution_count": 26,
     "metadata": {},
     "output_type": "execute_result"
    }
   ],
   "source": [
    "res[1]"
   ]
  },
  {
   "cell_type": "markdown",
   "metadata": {},
   "source": [
    "### 3. Preprocess tf-idf and experiment with preprocessing parameters. Train models"
   ]
  },
  {
   "cell_type": "code",
   "execution_count": 27,
   "metadata": {},
   "outputs": [],
   "source": [
    "train = pd.read_csv('data/train.csv')\n",
    "test = pd.read_csv('data/test.csv')"
   ]
  },
  {
   "cell_type": "code",
   "execution_count": 28,
   "metadata": {
    "scrolled": false
   },
   "outputs": [
    {
     "data": {
      "text/plain": [
       "<AxesSubplot:>"
      ]
     },
     "execution_count": 28,
     "metadata": {},
     "output_type": "execute_result"
    },
    {
     "data": {
      "image/png": "[encoded data removed]",
      "text/plain": [
       "<Figure size 640x480 with 1 Axes>"
      ]
     },
     "metadata": {},
     "output_type": "display_data"
    }
   ],
   "source": [
    "res = []\n",
    "res2 = []\n",
    "for i in np.linspace(0.5,0.52,25):\n",
    "    vectorizer = TfidfVectorizer(ngram_range=(1,2), max_df=i)\n",
    "    X_train = vectorizer.fit_transform(train.Text)\n",
    "    X_train, X_test, y_train, y_test = train_test_split(X_train, train.Label, random_state = 42, test_size = 0.1)\n",
    "    sgd = SGDClassifier(n_jobs = -1)\n",
    "    sgd.fit(X_train,y_train)\n",
    "    pred = sgd.predict(X_test)\n",
    "    res.append(accuracy_score(pred,y_test))\n",
    "    res2.append(i)\n",
    "\n",
    "sns.lineplot(x=np.linspace(0.5,0.52,25),y=res)"
   ]
  },
  {
   "cell_type": "code",
   "execution_count": 29,
   "metadata": {},
   "outputs": [
    {
     "data": {
      "text/plain": [
       "0.8079385403329066"
      ]
     },
     "execution_count": 29,
     "metadata": {},
     "output_type": "execute_result"
    }
   ],
   "source": [
    "np.array(res).max()"
   ]
  },
  {
   "cell_type": "code",
   "execution_count": 30,
   "metadata": {},
   "outputs": [],
   "source": [
    "vectorizer = TfidfVectorizer(max_df=0.8072983354673495)\n",
    "X_train = vectorizer.fit_transform(train.Text)\n",
    "X_test = vectorizer.transform(test.Text)\n",
    "le = LabelEncoder()\n",
    "y_train = le.fit_transform(train.Label)"
   ]
  },
  {
   "cell_type": "code",
   "execution_count": 31,
   "metadata": {},
   "outputs": [],
   "source": [
    "X_trains, X_tests,y_trains,y_tests=train_test_split(X_train,y_train,random_state=42,test_size=20)"
   ]
  },
  {
   "cell_type": "code",
   "execution_count": 32,
   "metadata": {},
   "outputs": [
    {
     "name": "stdout",
     "output_type": "stream",
     "text": [
      "              precision    recall  f1-score   support\n",
      "\n",
      "           0       1.00      0.50      0.67         6\n",
      "           1       0.75      1.00      0.86         3\n",
      "           2       0.60      1.00      0.75         3\n",
      "           3       0.88      0.88      0.88         8\n",
      "\n",
      "    accuracy                           0.80        20\n",
      "   macro avg       0.81      0.84      0.79        20\n",
      "weighted avg       0.85      0.80      0.79        20\n",
      "\n"
     ]
    }
   ],
   "source": [
    "clf = RandomForestClassifier()\n",
    "clf.fit(X_trains, y_trains)\n",
    "y_pred_RFC=clf.predict(X_tests)\n",
    "print(classification_report(y_pred_RFC,y_tests))"
   ]
  },
  {
   "cell_type": "code",
   "execution_count": 35,
   "metadata": {
    "scrolled": true
   },
   "outputs": [
    {
     "name": "stdout",
     "output_type": "stream",
     "text": [
      "              precision    recall  f1-score   support\n",
      "\n",
      "           0       1.00      0.75      0.86         4\n",
      "           1       0.50      1.00      0.67         2\n",
      "           2       0.60      1.00      0.75         3\n",
      "           3       1.00      0.73      0.84        11\n",
      "\n",
      "    accuracy                           0.80        20\n",
      "   macro avg       0.78      0.87      0.78        20\n",
      "weighted avg       0.89      0.80      0.81        20\n",
      "\n"
     ]
    }
   ],
   "source": [
    "sgd = SGDClassifier()\n",
    "sgd.fit(X_trains, y_trains)\n",
    "y_pred_SGD=sgd.predict(X_tests)\n",
    "print(classification_report(y_pred_SGD,y_tests))"
   ]
  },
  {
   "cell_type": "markdown",
   "metadata": {},
   "source": [
    "### 4.Let's try to use Neural Network for this task"
   ]
  },
  {
   "cell_type": "code",
   "execution_count": 36,
   "metadata": {},
   "outputs": [],
   "source": [
    "train = pd.read_csv('data/train.csv')\n",
    "test = pd.read_csv('data/test.csv')"
   ]
  },
  {
   "cell_type": "code",
   "execution_count": 37,
   "metadata": {},
   "outputs": [],
   "source": [
    "vectorizer = TfidfVectorizer(ngram_range=(1,2),max_df=0.8072983354673495)\n",
    "X_train = vectorizer.fit_transform(train.Text)\n",
    "X_test = vectorizer.transform(test.Text)\n",
    "le = LabelEncoder()\n",
    "y_train = le.fit_transform(train.Label)"
   ]
  },
  {
   "cell_type": "code",
   "execution_count": 38,
   "metadata": {},
   "outputs": [],
   "source": [
    "X_train, X_tests,y_train,y_tests=train_test_split(X_train,train.Label,random_state=42,test_size=0.1)"
   ]
  },
  {
   "cell_type": "code",
   "execution_count": 39,
   "metadata": {},
   "outputs": [],
   "source": [
    "X_train= X_train.astype('float32')\n",
    "X_tests= X_tests.astype('float32')"
   ]
  },
  {
   "cell_type": "code",
   "execution_count": 40,
   "metadata": {},
   "outputs": [],
   "source": [
    "X_trainbn = np.array(X_train.toarray())\n",
    "X_trainbn = X_trainbn.reshape(*X_trainbn.shape,1) \n",
    "ohe = OneHotEncoder(sparse=False)\n",
    "y_trainbn = ohe.fit_transform(np.array(y_train).reshape(-1,1))\n",
    "X_testbn = np.array(X_tests.toarray())\n",
    "X_testbn = X_testbn.reshape(*X_testbn.shape,1)\n",
    "y_testsbn = ohe.fit_transform(np.array(y_tests).reshape(-1,1))"
   ]
  },
  {
   "cell_type": "code",
   "execution_count": 41,
   "metadata": {},
   "outputs": [
    {
     "data": {
      "image/png": "[encoded data removed]",
      "text/plain": [
       "<Figure size 1200x800 with 2 Axes>"
      ]
     },
     "metadata": {},
     "output_type": "display_data"
    },
    {
     "name": "stdout",
     "output_type": "stream",
     "text": [
      "accuracy\n",
      "\ttraining         \t (min:    0.685, max:    0.685, cur:    0.685)\n",
      "\tvalidation       \t (min:    0.816, max:    0.816, cur:    0.816)\n",
      "Loss\n",
      "\ttraining         \t (min:    0.958, max:    0.958, cur:    0.958)\n",
      "\tvalidation       \t (min:    0.495, max:    0.495, cur:    0.495)\n",
      "\b\b\b\b\b\b\b\b\b\b\b\b\b\b\b\b\b\b\b\b\b\b\b\b\b\b\b\b\b\b\b\b\b\b\b\b\b\b\b\b\b\b\b\b\b\b\b\b\b\b\b\b\b\b\b\b\b\b\b\b\b\b\b\b\b\b\b\b\b\b\b\b\b\b\b\b\b\b\b\b\b\b\b\b\r",
      "282/282 [==============================] - 670s 2s/step - loss: 0.9583 - accuracy: 0.6852 - val_loss: 0.4951 - val_accuracy: 0.8163\n"
     ]
    }
   ],
   "source": [
    "model = Sequential([\n",
    "    Dense(16,input_shape=X_trainbn[0].shape,activation=relu,kernel_regularizer=L2(1e-4)),\n",
    "    Dense(32,activation=relu,kernel_regularizer=L2(1e-4)),\n",
    "    Dense(16,activation=relu,kernel_regularizer=L2(1e-4)),\n",
    "    Flatten(),\n",
    "    Dense(4,activation='softmax')\n",
    "])\n",
    "model.compile(loss='categorical_crossentropy', optimizer=Adam(), metrics=['accuracy'])\n",
    "# callback = EarlyStopping(monitor='val_accuracy', patience=2)\n",
    "history = model.fit(X_trainbn,y_trainbn,epochs=1,batch_size=50,verbose=1,validation_data=[X_testbn,y_testsbn],callbacks=[PlotLossesKeras(),callback])"
   ]
  },
  {
   "cell_type": "code",
   "execution_count": 42,
   "metadata": {},
   "outputs": [
    {
     "name": "stdout",
     "output_type": "stream",
     "text": [
      "49/49 [==============================] - 28s 558ms/step - loss: 0.4951 - accuracy: 0.8163\n"
     ]
    },
    {
     "data": {
      "text/plain": [
       "0.8162612318992615"
      ]
     },
     "execution_count": 42,
     "metadata": {},
     "output_type": "execute_result"
    }
   ],
   "source": [
    "res = model.evaluate(X_testbn,y_testsbn)\n",
    "res[1]"
   ]
  },
  {
   "cell_type": "markdown",
   "metadata": {},
   "source": [
    "### 5. Let's submit the results of NN to https://www.kaggle.com/competitions/swiss-dialect-identification/overview"
   ]
  },
  {
   "cell_type": "code",
   "execution_count": 44,
   "metadata": {},
   "outputs": [
    {
     "name": "stdout",
     "output_type": "stream",
     "text": [
      "79/79 [==============================] - 45s 550ms/step\n"
     ]
    }
   ],
   "source": [
    "test = pd.read_csv('data/test.csv')\n",
    "X_test = vectorizer.transform(test.Text)\n",
    "X_test = np.array(X_test.toarray())\n",
    "X_test = X_test.reshape(*X_test.shape,1)\n",
    "pred = model.predict(X_test)"
   ]
  },
  {
   "cell_type": "code",
   "execution_count": 45,
   "metadata": {
    "scrolled": true
   },
   "outputs": [],
   "source": [
    "pred_label = ohe.inverse_transform(pred).reshape(1,-1)[0]\n",
    "pd.DataFrame({\"Id\":test.Id,\"Prediction\":pred_label}).to_csv('imya.csv',index=False)"
   ]
  },
  {
   "cell_type": "markdown",
   "metadata": {},
   "source": [
    "Public score 0.83066 private score 0.80857"
   ]
  },
  {
   "cell_type": "code",
   "execution_count": 46,
   "metadata": {},
   "outputs": [
    {
     "data": {
      "text/plain": [
       "array(['ZH', 'LU', 'LU', ..., 'LU', 'ZH', 'BE'], dtype=object)"
      ]
     },
     "execution_count": 46,
     "metadata": {},
     "output_type": "execute_result"
    }
   ],
   "source": [
    "pred_label"
   ]
  },
  {
   "cell_type": "markdown",
   "metadata": {},
   "source": [
    "Help links:\n",
    "\n",
    "- https://scikit-learn.org/stable/modules/generated/sklearn.feature_extraction.text.CountVectorizer.html\n",
    "- https://scikit-learn.org/stable/modules/generated/sklearn.feature_extraction.text.TfidfVectorizer.html\n",
    "- https://www.nltk.org/api/nltk.lm.html\n",
    "- https://towardsdatascience.com/a-beginners-guide-to-word-embedding-with-gensim-word2vec-model-5970fa56cc92"
   ]
  }
 ],
 "metadata": {
  "kernelspec": {
   "display_name": "Python 3 (ipykernel)",
   "language": "python",
   "name": "python3"
  },
  "language_info": {
   "codemirror_mode": {
    "name": "ipython",
    "version": 3
   },
   "file_extension": ".py",
   "mimetype": "text/x-python",
   "name": "python",
   "nbconvert_exporter": "python",
   "pygments_lexer": "ipython3",
   "version": "3.10.6"
  }
 },
 "nbformat": 4,
 "nbformat_minor": 4
}
